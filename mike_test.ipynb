{
 "cells": [
  {
   "cell_type": "code",
   "execution_count": 1,
   "metadata": {},
   "outputs": [],
   "source": [
    "import pandas as pd\n",
    "import matplotlib.pyplot as plt\n",
    "import pylab"
   ]
  },
  {
   "cell_type": "code",
   "execution_count": 2,
   "metadata": {},
   "outputs": [],
   "source": [
    "def read_data():\n",
    "    df = pd.read_csv('adult.csv')\n",
    "    df = df.rename(columns={'income':'income_over_50K'}).replace({'<=50K':0,'>50K':1})\n",
    "    df['education1'] = df['education'].replace({'10th':10,'11th':11,'12th':12,'HS-grad':12,'7th-8th':8,'Bachelors':16,'Masters':18,'Doctorate':20,'9th':9,'5th-6th':6,'1st-4th':4,'Preschool':0,'Assoc-acdm':14,'Assoc-voc':14,'Prof-school':13,'Some-college':12.5})\n",
    "    df['age']=df['age'].astype(str)\n",
    "    df['capital.gain'].astype(str)\n",
    "    df['capital.loss'].astype(str)\n",
    "    return df"
   ]
  },
  {
   "cell_type": "code",
   "execution_count": 3,
   "metadata": {},
   "outputs": [],
   "source": [
    "def get_income_percent(df):\n",
    "    return (sum(df.income_over_50K)/len(df.income_over_50K))"
   ]
  },
  {
   "cell_type": "code",
   "execution_count": 4,
   "metadata": {},
   "outputs": [],
   "source": [
    "def filter_dataframe(df,column_name,value):\n",
    "    return df[df['{}'.format(column_name)]==value]"
   ]
  },
  {
   "cell_type": "code",
   "execution_count": 18,
   "metadata": {},
   "outputs": [
    {
     "data": {
      "text/plain": [
       "0.15950861822683554"
      ]
     },
     "execution_count": 18,
     "metadata": {},
     "output_type": "execute_result"
    }
   ],
   "source": [
    "df = read_data()\n",
    "get_income_percent(filter_dataframe(df,'education','HS-grad'))"
   ]
  },
  {
   "cell_type": "code",
   "execution_count": 6,
   "metadata": {},
   "outputs": [],
   "source": [
    "import io \n",
    "def get_correlation(category):\n",
    "    df = read_data()\n",
    "    unique_types = df['{}'.format(category)].unique()\n",
    "    education_dict = {}\n",
    "    for level in unique_types:\n",
    "        education_dict.update({level:round(100*get_income_percent(filter_dataframe(df,'{}'.format(category),'{}'.format(level))),2)})\n",
    "    return education_dict"
   ]
  },
  {
   "cell_type": "code",
   "execution_count": 7,
   "metadata": {},
   "outputs": [
    {
     "data": {
      "text/plain": [
       "{'Female': 10.95, 'Male': 30.57}"
      ]
     },
     "execution_count": 7,
     "metadata": {},
     "output_type": "execute_result"
    }
   ],
   "source": [
    "get_correlation('sex')"
   ]
  },
  {
   "cell_type": "code",
   "execution_count": 8,
   "metadata": {},
   "outputs": [],
   "source": [
    "def get_education_correlation():\n",
    "    df = read_data()\n",
    "    unique_types = df.education.unique()\n",
    "    education_dict = {}\n",
    "    for level in unique_types:\n",
    "        education_dict.update({level:round(100*get_income_percent(filter_dataframe(df,'education','{}'.format(level))),2)})\n",
    "    return education_dict"
   ]
  },
  {
   "cell_type": "code",
   "execution_count": 9,
   "metadata": {},
   "outputs": [],
   "source": [
    "def get_education_graph():\n",
    "    test = pd.DataFrame(columns=['var'])\n",
    "    df1 = pd.DataFrame([get_education_correlation().values()], columns=list(get_education_correlation().keys()))\n",
    "    df2 = df1.T.rename(columns={0:'var'}).sort_values('var')\n",
    "    names = df2.index\n",
    "    counts = list(df2['var'])\n",
    "    pylab.figure(1)\n",
    "    x = range(16)\n",
    "    pylab.xticks(x, names,rotation=70)\n",
    "    pylab.plot(x,counts,\"g\")\n",
    "    return pylab.show()"
   ]
  },
  {
   "cell_type": "code",
   "execution_count": 10,
   "metadata": {},
   "outputs": [],
   "source": [
    "def get_hours_education_graph():\n",
    "    test = read_data()\n",
    "    return test[['hours.per.week','education']].boxplot(by='education',rot=70,figsize=(12,6))"
   ]
  },
  {
   "cell_type": "code",
   "execution_count": 11,
   "metadata": {},
   "outputs": [],
   "source": [
    "#get_hours_education_graph()\n",
    "def get_hours_education():\n",
    "    da = read_data()\n",
    "    da1 = da[['education','hours.per.week']].groupby('education').mean().reset_index()\n",
    "    e = {}\n",
    "    da1 = da1.rename(columns={'hours.per.week':'hoursperweek'})\n",
    "    for i in da1.iterrows():\n",
    "        e.update({i[1].education:i[1].hoursperweek})\n",
    "    return e\n",
    "    "
   ]
  },
  {
   "cell_type": "code",
   "execution_count": 12,
   "metadata": {},
   "outputs": [],
   "source": [
    "def get_occupation_graph():\n",
    "    test = read_data()\n",
    "    return test[['hours.per.week','occupation']].boxplot(by='occupation',rot=70,figsize=(12,6))"
   ]
  },
  {
   "cell_type": "code",
   "execution_count": 13,
   "metadata": {},
   "outputs": [],
   "source": [
    "#get_occupation_graph()"
   ]
  },
  {
   "cell_type": "code",
   "execution_count": 14,
   "metadata": {},
   "outputs": [],
   "source": [
    "def occupation_hours():\n",
    "    test = read_data()\n",
    "    return test[['hours.per.week','occupation']].groupby('occupation').mean().reset_index().sort_values('hours.per.week')"
   ]
  },
  {
   "cell_type": "code",
   "execution_count": 15,
   "metadata": {},
   "outputs": [
    {
     "data": {
      "text/html": [
       "<div>\n",
       "<style scoped>\n",
       "    .dataframe tbody tr th:only-of-type {\n",
       "        vertical-align: middle;\n",
       "    }\n",
       "\n",
       "    .dataframe tbody tr th {\n",
       "        vertical-align: top;\n",
       "    }\n",
       "\n",
       "    .dataframe thead th {\n",
       "        text-align: right;\n",
       "    }\n",
       "</style>\n",
       "<table border=\"1\" class=\"dataframe\">\n",
       "  <thead>\n",
       "    <tr style=\"text-align: right;\">\n",
       "      <th></th>\n",
       "      <th>occupation</th>\n",
       "      <th>hours.per.week</th>\n",
       "    </tr>\n",
       "  </thead>\n",
       "  <tbody>\n",
       "    <tr>\n",
       "      <th>0</th>\n",
       "      <td>?</td>\n",
       "      <td>31.906131</td>\n",
       "    </tr>\n",
       "    <tr>\n",
       "      <th>9</th>\n",
       "      <td>Priv-house-serv</td>\n",
       "      <td>32.885906</td>\n",
       "    </tr>\n",
       "    <tr>\n",
       "      <th>8</th>\n",
       "      <td>Other-service</td>\n",
       "      <td>34.701669</td>\n",
       "    </tr>\n",
       "    <tr>\n",
       "      <th>1</th>\n",
       "      <td>Adm-clerical</td>\n",
       "      <td>37.558355</td>\n",
       "    </tr>\n",
       "    <tr>\n",
       "      <th>6</th>\n",
       "      <td>Handlers-cleaners</td>\n",
       "      <td>37.947445</td>\n",
       "    </tr>\n",
       "    <tr>\n",
       "      <th>13</th>\n",
       "      <td>Tech-support</td>\n",
       "      <td>39.432112</td>\n",
       "    </tr>\n",
       "    <tr>\n",
       "      <th>2</th>\n",
       "      <td>Armed-Forces</td>\n",
       "      <td>40.666667</td>\n",
       "    </tr>\n",
       "    <tr>\n",
       "      <th>7</th>\n",
       "      <td>Machine-op-inspct</td>\n",
       "      <td>40.755744</td>\n",
       "    </tr>\n",
       "    <tr>\n",
       "      <th>12</th>\n",
       "      <td>Sales</td>\n",
       "      <td>40.781096</td>\n",
       "    </tr>\n",
       "    <tr>\n",
       "      <th>3</th>\n",
       "      <td>Craft-repair</td>\n",
       "      <td>42.304221</td>\n",
       "    </tr>\n",
       "    <tr>\n",
       "      <th>10</th>\n",
       "      <td>Prof-specialty</td>\n",
       "      <td>42.386715</td>\n",
       "    </tr>\n",
       "    <tr>\n",
       "      <th>11</th>\n",
       "      <td>Protective-serv</td>\n",
       "      <td>42.870570</td>\n",
       "    </tr>\n",
       "    <tr>\n",
       "      <th>14</th>\n",
       "      <td>Transport-moving</td>\n",
       "      <td>44.656230</td>\n",
       "    </tr>\n",
       "    <tr>\n",
       "      <th>4</th>\n",
       "      <td>Exec-managerial</td>\n",
       "      <td>44.987703</td>\n",
       "    </tr>\n",
       "    <tr>\n",
       "      <th>5</th>\n",
       "      <td>Farming-fishing</td>\n",
       "      <td>46.989940</td>\n",
       "    </tr>\n",
       "  </tbody>\n",
       "</table>\n",
       "</div>"
      ],
      "text/plain": [
       "           occupation  hours.per.week\n",
       "0                   ?       31.906131\n",
       "9     Priv-house-serv       32.885906\n",
       "8       Other-service       34.701669\n",
       "1        Adm-clerical       37.558355\n",
       "6   Handlers-cleaners       37.947445\n",
       "13       Tech-support       39.432112\n",
       "2        Armed-Forces       40.666667\n",
       "7   Machine-op-inspct       40.755744\n",
       "12              Sales       40.781096\n",
       "3        Craft-repair       42.304221\n",
       "10     Prof-specialty       42.386715\n",
       "11    Protective-serv       42.870570\n",
       "14   Transport-moving       44.656230\n",
       "4     Exec-managerial       44.987703\n",
       "5     Farming-fishing       46.989940"
      ]
     },
     "execution_count": 15,
     "metadata": {},
     "output_type": "execute_result"
    }
   ],
   "source": [
    "occupation_hours()"
   ]
  },
  {
   "cell_type": "code",
   "execution_count": null,
   "metadata": {},
   "outputs": [],
   "source": []
  }
 ],
 "metadata": {
  "kernelspec": {
   "display_name": "Python 3",
   "language": "python",
   "name": "python3"
  },
  "language_info": {
   "codemirror_mode": {
    "name": "ipython",
    "version": 3
   },
   "file_extension": ".py",
   "mimetype": "text/x-python",
   "name": "python",
   "nbconvert_exporter": "python",
   "pygments_lexer": "ipython3",
   "version": "3.6.5"
  }
 },
 "nbformat": 4,
 "nbformat_minor": 2
}

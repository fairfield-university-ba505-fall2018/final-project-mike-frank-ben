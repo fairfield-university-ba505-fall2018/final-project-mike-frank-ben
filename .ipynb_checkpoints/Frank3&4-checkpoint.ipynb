{
 "cells": [
  {
   "cell_type": "code",
   "execution_count": 1,
   "metadata": {},
   "outputs": [],
   "source": [
    "import pandas as pd\n",
    "import numpy as np\n",
    "import matplotlib.pyplot as plt\n",
    "import seaborn as sns"
   ]
  },
  {
   "cell_type": "code",
   "execution_count": 2,
   "metadata": {},
   "outputs": [
    {
     "name": "stdout",
     "output_type": "stream",
     "text": [
      "   age workclass  fnlwgt     education  education.num marital.status  \\\n",
      "0   90         ?   77053       HS-grad              9        Widowed   \n",
      "1   82   Private  132870       HS-grad              9        Widowed   \n",
      "2   66         ?  186061  Some-college             10        Widowed   \n",
      "3   54   Private  140359       7th-8th              4       Divorced   \n",
      "4   41   Private  264663  Some-college             10      Separated   \n",
      "\n",
      "          occupation   relationship   race     sex  capital.gain  \\\n",
      "0                  ?  Not-in-family  White  Female             0   \n",
      "1    Exec-managerial  Not-in-family  White  Female             0   \n",
      "2                  ?      Unmarried  Black  Female             0   \n",
      "3  Machine-op-inspct      Unmarried  White  Female             0   \n",
      "4     Prof-specialty      Own-child  White  Female             0   \n",
      "\n",
      "   capital.loss  hours.per.week native.country income  \n",
      "0          4356              40  United-States  <=50K  \n",
      "1          4356              18  United-States  <=50K  \n",
      "2          4356              40  United-States  <=50K  \n",
      "3          3900              40  United-States  <=50K  \n",
      "4          3900              40  United-States  <=50K  \n"
     ]
    }
   ],
   "source": [
    "#Load data\n",
    "raw_data=pd.read_csv('adult.csv',header=0)\n",
    "print(raw_data.head())"
   ]
  },
  {
   "cell_type": "code",
   "execution_count": null,
   "metadata": {},
   "outputs": [],
   "source": [
    "# does a person martial status have a strong correlation to their income level?\n"
   ]
  }
 ],
 "metadata": {
  "kernelspec": {
   "display_name": "Python 3",
   "language": "python",
   "name": "python3"
  },
  "language_info": {
   "codemirror_mode": {
    "name": "ipython",
    "version": 3
   },
   "file_extension": ".py",
   "mimetype": "text/x-python",
   "name": "python",
   "nbconvert_exporter": "python",
   "pygments_lexer": "ipython3",
   "version": "3.6.5"
  }
 },
 "nbformat": 4,
 "nbformat_minor": 2
}

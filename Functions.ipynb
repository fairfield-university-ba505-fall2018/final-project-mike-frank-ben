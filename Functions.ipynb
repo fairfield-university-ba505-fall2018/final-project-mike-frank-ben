{
 "cells": [
  {
   "cell_type": "code",
   "execution_count": 1,
   "metadata": {},
   "outputs": [],
   "source": [
    "import pandas as pd\n",
    "import numpy as np\n",
    "import matplotlib.pyplot as plt\n",
    "import seaborn as sns\n",
    "from sklearn.preprocessing import LabelEncoder"
   ]
  },
  {
   "cell_type": "code",
   "execution_count": 7,
   "metadata": {},
   "outputs": [
    {
     "name": "stdout",
     "output_type": "stream",
     "text": [
      "   age workclass  fnlwgt     education  education.num marital.status  \\\n",
      "0   90         ?   77053       HS-grad              9        Widowed   \n",
      "1   82   Private  132870       HS-grad              9        Widowed   \n",
      "2   66         ?  186061  Some-college             10        Widowed   \n",
      "3   54   Private  140359       7th-8th              4       Divorced   \n",
      "4   41   Private  264663  Some-college             10      Separated   \n",
      "\n",
      "          occupation   relationship   race     sex  capital.gain  \\\n",
      "0                  ?  Not-in-family  White  Female             0   \n",
      "1    Exec-managerial  Not-in-family  White  Female             0   \n",
      "2                  ?      Unmarried  Black  Female             0   \n",
      "3  Machine-op-inspct      Unmarried  White  Female             0   \n",
      "4     Prof-specialty      Own-child  White  Female             0   \n",
      "\n",
      "   capital.loss  hours.per.week native.country income  \n",
      "0          4356              40  United-States  <=50K  \n",
      "1          4356              18  United-States  <=50K  \n",
      "2          4356              40  United-States  <=50K  \n",
      "3          3900              40  United-States  <=50K  \n",
      "4          3900              40  United-States  <=50K  \n"
     ]
    }
   ],
   "source": [
    "#Load data\n",
    "raw_data=pd.read_csv('adult.csv',header=0)\n",
    "print(raw_data.head())\n"
   ]
  },
  {
   "cell_type": "code",
   "execution_count": 3,
   "metadata": {},
   "outputs": [],
   "source": [
    "#Creating a function that summarizes a single variable and displays a pie chart if it's categorical data and a violin plot if it's cnotinuous\n",
    "def summarize(variable):\n",
    "    print(raw_data[variable].describe())\n",
    "    if raw_data[variable].dtype=='object':\n",
    "        grouped=raw_data.groupby(variable).fnlwgt.sum()\n",
    "        plt.axis('equal')\n",
    "        plt.pie(raw_data.groupby(variable).fnlwgt.sum(),labels=grouped.index,radius=2,autopct='%0.1f%%',explode=[.06]*grouped.value_counts().sum(),shadow=True)\n",
    "        plt.show()\n",
    "    else:\n",
    "        sns.violinplot(x=raw_data[variable],inner='quartile')\n",
    "        plt.show()"
   ]
  },
  {
   "cell_type": "code",
   "execution_count": 34,
   "metadata": {},
   "outputs": [
    {
     "name": "stdout",
     "output_type": "stream",
     "text": [
      "                         fnlwgt\n",
      "education    sex               \n",
      "10th         Female    55263238\n",
      "             Male     128381452\n",
      "11th         Female    83724393\n",
      "             Male     145316098\n",
      "12th         Female    26339061\n",
      "             Male      59870160\n",
      "1st-4th      Female     9346742\n",
      "             Male      30856162\n",
      "5th-6th      Female    18706398\n",
      "             Male      58698897\n",
      "7th-8th      Female    28665353\n",
      "             Male      92833792\n",
      "9th          Female    30229145\n",
      "             Male      73848179\n",
      "Assoc-acdm   Female    75524565\n",
      "             Male     130858943\n",
      "Assoc-voc    Female    93241408\n",
      "             Male     158194167\n",
      "Bachelors    Female   294847544\n",
      "             Male     712191880\n",
      "Doctorate    Female    16422409\n",
      "             Male      60684179\n",
      "HS-grad      Female   635558915\n",
      "             Male    1354787391\n",
      "Masters      Female    94593728\n",
      "             Male     215291893\n",
      "Preschool    Female     3183366\n",
      "             Male       8846992\n",
      "Prof-school  Female    15731328\n",
      "             Male      91210967\n",
      "Some-college Female   519295925\n",
      "             Male     856828722\n"
     ]
    }
   ],
   "source": [
    "#Creating a function that displays different types of plots depending on the data types of two variables\n",
    "\n",
    "def correlation(variable1,variable2):\n",
    "    if raw_data[variable1].dtype=='object' and raw_data[variable2].dtype=='object':\n",
    "        grouped=raw_data.groupby(variable1,variable2).fnlwgt.sum()\n",
    "        \n",
    "#grouped=pd.DataFrame(raw_data.groupby(['education','sex']).fnlwgt.sum())\n",
    "#print(grouped)\n",
    "\n"
   ]
  }
 ],
 "metadata": {
  "kernelspec": {
   "display_name": "Python 3",
   "language": "python",
   "name": "python3"
  },
  "language_info": {
   "codemirror_mode": {
    "name": "ipython",
    "version": 3
   },
   "file_extension": ".py",
   "mimetype": "text/x-python",
   "name": "python",
   "nbconvert_exporter": "python",
   "pygments_lexer": "ipython3",
   "version": "3.6.5"
  }
 },
 "nbformat": 4,
 "nbformat_minor": 2
}
